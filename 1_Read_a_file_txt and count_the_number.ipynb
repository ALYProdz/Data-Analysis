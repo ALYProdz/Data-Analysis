{
 "cells": [
  {
   "cell_type": "code",
   "execution_count": 32,
   "id": "663f4b2c",
   "metadata": {},
   "outputs": [],
   "source": [
    "#Read a file\n",
    "#Create a function for read a file\n",
    "def read_a_file(file):\n",
    "    \"\"\"This function will read text a file\"\"\"\n",
    "    #First, Open the file as f\n",
    "    with open(file, \"r\") as f:\n",
    "        #Read the file\n",
    "        f = f.read()\n",
    "        #Replace the unvwanted character\n",
    "        f = f.replace(\"\\n\",\"\").replace(\"\\r\",\"\")\n",
    "        f = f.lower()\n",
    "        return f"
   ]
  },
  {
   "cell_type": "code",
   "execution_count": 33,
   "id": "bf17d341",
   "metadata": {},
   "outputs": [],
   "source": [
    "v = \"./Downloads/prog_1.txt\""
   ]
  },
  {
   "cell_type": "code",
   "execution_count": 34,
   "id": "2a7bebfc",
   "metadata": {},
   "outputs": [
    {
     "data": {
      "text/plain": [
       "'programming refers to a technological process for telling a computer which tasks to perform in order to solve problems. you can think of programming as a collaboration between humans and computers, in which humans create instructions for a computer to follow (code) in a language computers can understand.programming, or coding as it is commonly known, is the act of writing instructions for a computer in order to achieve a desired outcome. programming languages come in many different forms, but they all focus on providing humans a way to talk to machines.'"
      ]
     },
     "execution_count": 34,
     "metadata": {},
     "output_type": "execute_result"
    }
   ],
   "source": [
    "read_a_file(v)"
   ]
  },
  {
   "cell_type": "code",
   "execution_count": 35,
   "id": "60d1bb8a",
   "metadata": {},
   "outputs": [],
   "source": [
    "#Count the number of word in a file\n",
    "def word_count(file):\n",
    "    count_word = {}\n",
    "    for word in file.split(\" \"):\n",
    "        if word in count_word:\n",
    "            count_word[word] +=1\n",
    "        else:\n",
    "            count_word[word] = 1\n",
    "    return count_word"
   ]
  },
  {
   "cell_type": "code",
   "execution_count": 36,
   "id": "54cb2b4b",
   "metadata": {},
   "outputs": [
    {
     "data": {
      "text/plain": [
       "{'programming': 3,\n",
       " 'refers': 1,\n",
       " 'to': 7,\n",
       " 'a': 8,\n",
       " 'technological': 1,\n",
       " 'process': 1,\n",
       " 'for': 3,\n",
       " 'telling': 1,\n",
       " 'computer': 3,\n",
       " 'which': 2,\n",
       " 'tasks': 1,\n",
       " 'perform': 1,\n",
       " 'in': 5,\n",
       " 'order': 2,\n",
       " 'solve': 1,\n",
       " 'problems.': 1,\n",
       " 'you': 1,\n",
       " 'can': 2,\n",
       " 'think': 1,\n",
       " 'of': 2,\n",
       " 'as': 2,\n",
       " 'collaboration': 1,\n",
       " 'between': 1,\n",
       " 'humans': 3,\n",
       " 'and': 1,\n",
       " 'computers,': 1,\n",
       " 'create': 1,\n",
       " 'instructions': 2,\n",
       " 'follow': 1,\n",
       " '(code)': 1,\n",
       " 'language': 1,\n",
       " 'computers': 1,\n",
       " 'understand.programming,': 1,\n",
       " 'or': 1,\n",
       " 'coding': 1,\n",
       " 'it': 1,\n",
       " 'is': 2,\n",
       " 'commonly': 1,\n",
       " 'known,': 1,\n",
       " 'the': 1,\n",
       " 'act': 1,\n",
       " 'writing': 1,\n",
       " 'achieve': 1,\n",
       " 'desired': 1,\n",
       " 'outcome.': 1,\n",
       " 'languages': 1,\n",
       " 'come': 1,\n",
       " 'many': 1,\n",
       " 'different': 1,\n",
       " 'forms,': 1,\n",
       " 'but': 1,\n",
       " 'they': 1,\n",
       " 'all': 1,\n",
       " 'focus': 1,\n",
       " 'on': 1,\n",
       " 'providing': 1,\n",
       " 'way': 1,\n",
       " 'talk': 1,\n",
       " 'machines.': 1}"
      ]
     },
     "execution_count": 36,
     "metadata": {},
     "output_type": "execute_result"
    }
   ],
   "source": [
    "word_count(read_a_file(v))"
   ]
  },
  {
   "cell_type": "code",
   "execution_count": null,
   "id": "a9f7a20f",
   "metadata": {},
   "outputs": [],
   "source": []
  }
 ],
 "metadata": {
  "kernelspec": {
   "display_name": "Python 3 (ipykernel)",
   "language": "python",
   "name": "python3"
  },
  "language_info": {
   "codemirror_mode": {
    "name": "ipython",
    "version": 3
   },
   "file_extension": ".py",
   "mimetype": "text/x-python",
   "name": "python",
   "nbconvert_exporter": "python",
   "pygments_lexer": "ipython3",
   "version": "3.10.9"
  }
 },
 "nbformat": 4,
 "nbformat_minor": 5
}
