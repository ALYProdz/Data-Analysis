{
 "cells": [
  {
   "cell_type": "code",
   "execution_count": 48,
   "id": "05d8214a",
   "metadata": {},
   "outputs": [],
   "source": [
    "# Function to file the dictionary\n",
    "\n",
    "def read_dictionary(file_path):\n",
    "    \"\"\"This function will read a file and return it as a dictionnary\"\"\"\n",
    "    original_dict = {}\n",
    "    with open(file_path, 'r') as file:\n",
    "        for line in file:\n",
    "            key, value = line.strip().split(': ')\n",
    "            # Handling multiple values for each key\n",
    "            values = value.split(', ')\n",
    "            original_dict[key] = values if len(values) > 1 else value\n",
    "    return original_dict\n",
    "\n",
    "\n",
    "# Function to invert the dictionary\n",
    "\n",
    "def invert_dictionary(dictionary):\n",
    "    \"\"\"This function will invert a dictionnary\"\"\"\n",
    "    inverted_dict = {}\n",
    "    for key, values in dictionary.items():\n",
    "        # If the value is a list (i.e., multiple values for a single key), iterate over each\n",
    "        if isinstance(values, list):\n",
    "            for value in values:\n",
    "                inverted_dict.setdefault(value, []).append(key)\n",
    "        else:\n",
    "            # Otherwise, it's a single value\n",
    "            inverted_dict.setdefault(values, []).append(key)\n",
    "    return inverted_dict"
   ]
  },
  {
   "cell_type": "code",
   "execution_count": 55,
   "id": "3f3e0d48",
   "metadata": {},
   "outputs": [
    {
     "data": {
      "text/plain": [
       "'t-shirt : blue\\nsuit : red\\npants : blue\\nmango : yellow\\nshirt : black\\njacket : green\\nvest : grey '"
      ]
     },
     "execution_count": 55,
     "metadata": {},
     "output_type": "execute_result"
    }
   ],
   "source": [
    "#Read the file\n",
    "open(\"./Downloads/Input_dict5.txt\", \"r\").read()"
   ]
  },
  {
   "cell_type": "code",
   "execution_count": 58,
   "id": "5cefed2e",
   "metadata": {},
   "outputs": [
    {
     "data": {
      "text/plain": [
       "{'t-shirt ': 'blue',\n",
       " 'suit ': 'red',\n",
       " 'pants ': 'blue',\n",
       " 'mango ': 'yellow',\n",
       " 'shirt ': 'black',\n",
       " 'jacket ': 'green',\n",
       " 'vest ': 'grey'}"
      ]
     },
     "execution_count": 58,
     "metadata": {},
     "output_type": "execute_result"
    }
   ],
   "source": [
    "#Read the file and return a dictionnary\n",
    "read_dictionary(\"./Downloads/Input_dict5.txt\")"
   ]
  },
  {
   "cell_type": "code",
   "execution_count": 59,
   "id": "b229ae36",
   "metadata": {},
   "outputs": [
    {
     "data": {
      "text/plain": [
       "{'blue': ['t-shirt ', 'pants '],\n",
       " 'red': ['suit '],\n",
       " 'yellow': ['mango '],\n",
       " 'black': ['shirt '],\n",
       " 'green': ['jacket '],\n",
       " 'grey': ['vest ']}"
      ]
     },
     "execution_count": 59,
     "metadata": {},
     "output_type": "execute_result"
    }
   ],
   "source": [
    "#Invert a dictionnary\n",
    "invert_dictionary(read_dictionary(\"./Downloads/Input_dict5.txt\"))"
   ]
  },
  {
   "cell_type": "code",
   "execution_count": null,
   "id": "12f7bcf1",
   "metadata": {},
   "outputs": [],
   "source": []
  }
 ],
 "metadata": {
  "kernelspec": {
   "display_name": "Python 3 (ipykernel)",
   "language": "python",
   "name": "python3"
  },
  "language_info": {
   "codemirror_mode": {
    "name": "ipython",
    "version": 3
   },
   "file_extension": ".py",
   "mimetype": "text/x-python",
   "name": "python",
   "nbconvert_exporter": "python",
   "pygments_lexer": "ipython3",
   "version": "3.10.9"
  }
 },
 "nbformat": 4,
 "nbformat_minor": 5
}
